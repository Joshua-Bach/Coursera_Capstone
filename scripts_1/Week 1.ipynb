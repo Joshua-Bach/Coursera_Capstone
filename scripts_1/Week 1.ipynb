"This code will be used for main coursera capstone project"

import pandas as pd
import numpy as np

print("Hello Capstone Project Course!")
